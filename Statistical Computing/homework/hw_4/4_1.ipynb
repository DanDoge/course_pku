{
 "cells": [
  {
   "cell_type": "code",
   "execution_count": 7,
   "metadata": {},
   "outputs": [],
   "source": [
    "import numpy as np\n",
    "from scipy.special import digamma as dga\n",
    "from scipy.special import gamma as ga\n",
    "from scipy.special import loggamma as lga"
   ]
  },
  {
   "cell_type": "code",
   "execution_count": 8,
   "metadata": {},
   "outputs": [],
   "source": [
    "eps=1e-10\n",
    "def log(x):\n",
    "    return np.log(x + eps)\n",
    "\n",
    "def digamma(x):\n",
    "    return dga(x + eps)\n",
    "\n",
    "def loggamma(x):\n",
    "    return lga(x + eps)"
   ]
  },
  {
   "cell_type": "code",
   "execution_count": 9,
   "metadata": {},
   "outputs": [],
   "source": [
    "def init(data):\n",
    "    vocab = np.array([i for i in range(100)])\n",
    "\n",
    "    num_doc = data.shape[0]\n",
    "    num_vocab = vocab.shape[0]\n",
    "    len_doc = data.shape[1]\n",
    "    num_topic = 10\n",
    "\n",
    "    w = np.zeros([num_doc, len_doc, num_vocab])\n",
    "    for d in range(num_doc):\n",
    "        for n in range(len_doc):\n",
    "            w[d, n, data[d, n]] = 1\n",
    "\n",
    "    alpha = np.ones(shape=num_topic)\n",
    "    eta = np.ones(shape=num_vocab)\n",
    "\n",
    "    phi = np.random.rand(num_doc, len_doc, num_topic)\n",
    "    for d in range(num_doc):\n",
    "        for n in range(len_doc):\n",
    "            phi[d, n] /= np.sum(phi[d, n])\n",
    "\n",
    "    gam = np.random.rand(num_doc, num_topic)\n",
    "    gam /= np.sum(gam, axis=1)[:, np.newaxis]\n",
    "\n",
    "    lam = np.random.rand(num_topic, num_vocab)\n",
    "    lam /= np.sum(lam, axis=1)[:, np.newaxis]\n",
    "    return lam, gam, phi, w, num_doc, num_topic, num_vocab, len_doc, alpha, eta"
   ]
  },
  {
   "cell_type": "code",
   "execution_count": 10,
   "metadata": {},
   "outputs": [],
   "source": [
    "def one_step(lam, gam, phi, w, num_doc, num_topic, num_vocab, len_doc, alpha, eta):\n",
    "    #print(num_doc, num_topic, num_vocab)\n",
    "    for k in range(num_topic):\n",
    "        lam[k] = eta\n",
    "        for d in range(num_doc):\n",
    "            for n in range(len_doc):\n",
    "                lam[k] += phi[d, n, k] * w[d, n]\n",
    "    #lam /= np.sum(lam, axis=1)[:, np.newaxis]\n",
    "    \n",
    "    gam = alpha + np.sum(phi, axis=1)\n",
    "    #gam /= np.sum(gam, axis=1)[:, np.newaxis]\n",
    "    \n",
    "    def get_single_doc(lam, gam, phi, w, d):\n",
    "        for n in range(len_doc):\n",
    "            #phi[d, n, :] = np.exp(digamma(gam[d, :]) + digamma(lam[:, data[d, n]]) - digamma(np.sum(lam, axis=1)))\n",
    "            for k in range(num_topic):\n",
    "                phi[d, n, k] = np.exp(digamma(lam[k, data[d, n]]) - digamma(np.sum(lam[k])) + digamma(gam[d, k]) - digamma(np.sum(gam[d])))\n",
    "            phi[d, n, :] /= np.sum(phi[d, n, :])\n",
    "        return phi[d], d\n",
    "            \n",
    "    with concurrent.futures.ThreadPoolExecutor(max_workers=8) as executor:\n",
    "        future_list = [executor.submit(get_single_doc, lam, gam, phi, w, d) for d in range(num_doc)]\n",
    "        for future in concurrent.futures.as_completed(future_list):\n",
    "            phi_d, d = future.result()\n",
    "            phi[d] = phi_d\n",
    "    \n",
    "    return lam, gam, phi, w, num_doc, num_topic, num_vocab, len_doc, alpha, eta"
   ]
  },
  {
   "cell_type": "code",
   "execution_count": 11,
   "metadata": {},
   "outputs": [],
   "source": [
    "import concurrent.futures\n",
    "\n",
    "def get_res1(lam, gam, phi, w):\n",
    "    res_1 = 0.0\n",
    "    res_1 += num_topic * loggamma(np.sum(eta))\n",
    "    res_1 -= num_topic * np.sum(loggamma(eta))\n",
    "    '''\n",
    "    for k in range(num_topic):\n",
    "        for i in range(num_vocab):\n",
    "            res_1 += (eta[i] - 1) * (digamma(lam[k, i]) - digamma(np.sum(lam[k])))\n",
    "    '''\n",
    "    return res_1\n",
    "\n",
    "\n",
    "def get_res2(lam, gam, phi, w):          \n",
    "    res_2 = 0.0\n",
    "    for n in range(len_doc):\n",
    "        for k in range(num_topic):\n",
    "            res_2 += phi[:, n, k] * (digamma(gam[:, k]) - digamma(np.sum(gam, axis=1)))\n",
    "    #res_2 -= digamma(np.sum(gam, axis=1))\n",
    "    res_2 = np.sum(res_2)\n",
    "    return res_2\n",
    "\n",
    "    \n",
    "def get_res3(lam, gam, phi, w):\n",
    "    res_3 = 0.0\n",
    "    res_3 += loggamma(np.sum(alpha))\n",
    "    res_3 -= np.sum(loggamma(alpha))\n",
    "    '''\n",
    "    for k in range(num_topic):\n",
    "        res_3 += (alpha[k] - 1) * (digamma(gam[:, k] - digamma(np.sum(gam[:, k]))))\n",
    "    '''\n",
    "    res_3 = np.sum(res_3)\n",
    "    return res_3\n",
    "\n",
    "def get_res4(lam, gam, phi, w):\n",
    "    res_4 = 0.0\n",
    "    def get_res4_single_loc(lam, gam, phi, w, n):\n",
    "        res_loc = 0.0\n",
    "        for k in range(num_topic):\n",
    "            sum_lam_k = np.sum(lam[k])\n",
    "            for i in range(num_vocab):\n",
    "                res_loc += phi[:, n, k] * w[:, n, i] * (digamma(lam[k, i]) - digamma(sum_lam_k))\n",
    "        res_loc = np.sum(res_loc)\n",
    "        return res_loc\n",
    "    \n",
    "    with concurrent.futures.ThreadPoolExecutor(max_workers=32) as executor:\n",
    "        future_list = [executor.submit(get_res4_single_loc, lam, gam, phi, w, n) for n in range(len_doc)]\n",
    "        for future in concurrent.futures.as_completed(future_list):\n",
    "            res_4 += future.result()\n",
    "    return res_4\n",
    "\n",
    "def get_res5(lam, gam, phi, w):\n",
    "    res_5 = 0.0\n",
    "    for k in range(num_topic):\n",
    "        res_5 += loggamma(np.sum(lam[k])) - np.sum(loggamma(lam[k]))\n",
    "    for k in range(num_topic):\n",
    "        sum_lam_k = np.sum(lam[k])\n",
    "        #'''\n",
    "        res_5 += np.sum((lam[k] - 1) * (digamma(lam[k]) - digamma(sum_lam_k)))\n",
    "        '''\n",
    "        for i in range(num_vocab):\n",
    "            res_5 += (lam[k, i] - 1) * (digamma(lam[k, i]) - digamma(sum_lam_k))\n",
    "        '''\n",
    "    return -res_5\n",
    "    \n",
    "def get_res6(lam, gam, phi, w):\n",
    "    res_6 = 0.0\n",
    "    res_6 += np.sum(phi * log(phi))\n",
    "    return -res_6\n",
    "\n",
    "def get_res7(lam, gam, phi, w):\n",
    "    res_7 = 0.0\n",
    "    res_7 += loggamma(np.sum(gam, axis=1)) - np.sum(loggamma(gam), axis=1)\n",
    "    #print(res_7)\n",
    "    res_7 = np.sum(res_7)\n",
    "    for d in range(num_doc):\n",
    "        res_7 += np.sum((gam[d] - 1) * (digamma(gam[d]) - digamma(np.sum(gam[d]))))\n",
    "    return -res_7\n",
    "\n",
    "def elbo(lam, gam, phi, w):\n",
    "    res = 0.0\n",
    "    func_list = [get_res1, get_res2, get_res3, get_res4, get_res5, get_res6, get_res7]\n",
    "    with concurrent.futures.ThreadPoolExecutor(max_workers=8) as executor:\n",
    "        future_list = [executor.submit(func, lam, gam, phi, w) for func in func_list]\n",
    "        for future in concurrent.futures.as_completed(future_list):\n",
    "            res += future.result()\n",
    "    \n",
    "    return res"
   ]
  },
  {
   "cell_type": "code",
   "execution_count": null,
   "metadata": {
    "scrolled": true
   },
   "outputs": [
    {
     "name": "stdout",
     "output_type": "stream",
     "text": [
      "iteration 0 done\n",
      "-104672.74536964955\n",
      "iteration 1 done\n",
      "-104672.74416709045\n",
      "iteration 2 done\n",
      "-104672.743821647\n",
      "iteration 3 done\n",
      "-104672.74071140107\n",
      "iteration 4 done\n",
      "-104672.74362164483\n",
      "iteration 5 done\n",
      "-104672.75411491861\n",
      "iteration 6 done\n",
      "-104672.74591432579\n",
      "iteration 7 done\n",
      "-104672.74464830024\n",
      "iteration 8 done\n",
      "-104672.7422740624\n"
     ]
    }
   ],
   "source": [
    "elbo_list = []\n",
    "#for dsize in range(10, 100, 10):\n",
    "    #data = np.load(\"mcs_hw4_p1_lda.npy\")[:dsize]\n",
    "if True:\n",
    "    data = np.load(\"mcs_hw4_p1_lda.npy\")\n",
    "    for i in range(10):\n",
    "        lam, gam, phi, w, num_doc, num_topic, num_vocab, len_doc, alpha, eta = init(data)\n",
    "        lam, gam, phi, w, num_doc, num_topic, num_vocab, len_doc, alpha, eta = one_step(lam, gam, phi, w, num_doc, num_topic, num_vocab, len_doc, alpha, eta)\n",
    "        print(\"iteration \" + str(i) + \" done\")\n",
    "        elbo_per_point = elbo(lam, gam, phi, w) / dsize\n",
    "        elbo_list.append(elbo_per_point)\n",
    "        print(elbo_per_point)"
   ]
  },
  {
   "cell_type": "code",
   "execution_count": 52,
   "metadata": {},
   "outputs": [],
   "source": [
    "r = []\n",
    "r.append(get_res1(lam, gam, phi, w))\n",
    "r.append(get_res2(lam, gam, phi, w))\n",
    "r.append(get_res3(lam, gam, phi, w))\n",
    "r.append(get_res4(lam, gam, phi, w))\n",
    "r.append(get_res5(lam, gam, phi, w))\n",
    "r.append(get_res6(lam, gam, phi, w))\n",
    "r.append(get_res7(lam, gam, phi, w))"
   ]
  },
  {
   "cell_type": "code",
   "execution_count": 13,
   "metadata": {
    "scrolled": true
   },
   "outputs": [
    {
     "data": {
      "text/plain": [
       "(10000, 10)"
      ]
     },
     "execution_count": 13,
     "metadata": {},
     "output_type": "execute_result"
    }
   ],
   "source": [
    "data = np.load(\"mcs_hw4_p1_lda.npy\")\n",
    "lam, gam, phi, w, num_doc, num_topic, num_vocab, len_doc, alpha, eta = init(data)\n",
    "np.sum(phi, axis=1).shape"
   ]
  },
  {
   "cell_type": "code",
   "execution_count": 14,
   "metadata": {},
   "outputs": [
    {
     "data": {
      "text/plain": [
       "(10,)"
      ]
     },
     "execution_count": 14,
     "metadata": {},
     "output_type": "execute_result"
    }
   ],
   "source": [
    "alpha.shape"
   ]
  },
  {
   "cell_type": "code",
   "execution_count": 15,
   "metadata": {
    "scrolled": true
   },
   "outputs": [
    {
     "data": {
      "text/plain": [
       "array([[21.15514924, 21.43316276, 20.01395873, ..., 20.92318003,\n",
       "        19.99547232, 20.19644538],\n",
       "       [20.91252212, 18.80776031, 21.48994937, ..., 21.03521142,\n",
       "        18.81068813, 20.32623107],\n",
       "       [18.92401821, 21.93323691, 18.91930827, ..., 20.81140416,\n",
       "        20.59745631, 19.49480417],\n",
       "       ...,\n",
       "       [21.06326835, 20.61386613, 20.6810978 , ..., 18.51251105,\n",
       "        19.3217346 , 20.34843406],\n",
       "       [20.62657111, 20.82458292, 20.44146343, ..., 20.08851118,\n",
       "        19.11378451, 20.38167739],\n",
       "       [20.55558543, 20.45527328, 20.64976988, ..., 18.09921177,\n",
       "        19.98834929, 20.59680971]])"
      ]
     },
     "execution_count": 15,
     "metadata": {},
     "output_type": "execute_result"
    }
   ],
   "source": [
    "np.sum(phi, axis=1)"
   ]
  },
  {
   "cell_type": "code",
   "execution_count": 16,
   "metadata": {},
   "outputs": [
    {
     "data": {
      "text/plain": [
       "array([[22.15514924, 22.43316276, 21.01395873, ..., 21.92318003,\n",
       "        20.99547232, 21.19644538],\n",
       "       [21.91252212, 19.80776031, 22.48994937, ..., 22.03521142,\n",
       "        19.81068813, 21.32623107],\n",
       "       [19.92401821, 22.93323691, 19.91930827, ..., 21.81140416,\n",
       "        21.59745631, 20.49480417],\n",
       "       ...,\n",
       "       [22.06326835, 21.61386613, 21.6810978 , ..., 19.51251105,\n",
       "        20.3217346 , 21.34843406],\n",
       "       [21.62657111, 21.82458292, 21.44146343, ..., 21.08851118,\n",
       "        20.11378451, 21.38167739],\n",
       "       [21.55558543, 21.45527328, 21.64976988, ..., 19.09921177,\n",
       "        20.98834929, 21.59680971]])"
      ]
     },
     "execution_count": 16,
     "metadata": {},
     "output_type": "execute_result"
    }
   ],
   "source": [
    "np.sum(phi, axis=1) + alpha"
   ]
  },
  {
   "cell_type": "code",
   "execution_count": null,
   "metadata": {},
   "outputs": [],
   "source": []
  }
 ],
 "metadata": {
  "kernelspec": {
   "display_name": "Python 3",
   "language": "python",
   "name": "python3"
  },
  "language_info": {
   "codemirror_mode": {
    "name": "ipython",
    "version": 3
   },
   "file_extension": ".py",
   "mimetype": "text/x-python",
   "name": "python",
   "nbconvert_exporter": "python",
   "pygments_lexer": "ipython3",
   "version": "3.7.0"
  }
 },
 "nbformat": 4,
 "nbformat_minor": 2
}
