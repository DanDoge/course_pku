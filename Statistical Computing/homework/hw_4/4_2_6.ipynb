{
 "cells": [
  {
   "cell_type": "code",
   "execution_count": 1,
   "metadata": {},
   "outputs": [],
   "source": [
    "import numpy as np\n",
    "data = np.load(\"mcs_hw2_p3_data.npy\")\n",
    "x = data[:, :2]\n",
    "y = data[:, 2]"
   ]
  },
  {
   "cell_type": "code",
   "execution_count": 20,
   "metadata": {},
   "outputs": [],
   "source": [
    "import scipy.stats\n",
    "\n",
    "def get_gradient_mu_t(beta, mu, sigma2, v):\n",
    "    return (beta - mu) / sigma2\n",
    "\n",
    "def get_gradient_logsigma2_t(beta, mu, sigma2, v):\n",
    "    norm = beta - mu\n",
    "    return (- 1 / sigma2 + norm * norm / (2 * sigma2 * sigma2)) * sigma2\n",
    "\n",
    "def sigmoid(x):\n",
    "    return 1 / (1 + np.exp(-x))\n",
    "\n",
    "def get_log_p(x, y, beta):\n",
    "    eps = 0.0\n",
    "    res = 0.0\n",
    "    res += np.sum(y * np.log(eps + sigmoid(np.dot(x, beta))) + (1.0 - y) * np.log(eps + 1 - sigmoid(np.dot(x, beta))))\n",
    "    res += np.sum(scipy.stats.norm.logpdf(beta, np.zeros(2), np.ones(2)))\n",
    "    return res\n",
    "\n",
    "def get_log_q(mu, sigma2, beta, v):\n",
    "    res = np.sum(scipy.stats.norm.logpdf(beta, mu, np.sqrt(sigma2)))\n",
    "    return res\n",
    "\n",
    "import concurrent.futures\n",
    "\n",
    "\n",
    "\n",
    "def elbo(x, y, mu, sigma2, dof):\n",
    "    res = 0.0\n",
    "    sample_size = 1024\n",
    "    sample_beta = np.zeros(shape=(2, sample_size))\n",
    "    sample_beta = np.random.normal(mu, np.sqrt(sigma2), size=[sample_size, mu.shape[0]])\n",
    "    with concurrent.futures.ThreadPoolExecutor(max_workers=32) as executor:\n",
    "        future_list = [executor.submit(get_log_p, x, y, beta) for beta in sample_beta]\n",
    "        for future in concurrent.futures.as_completed(future_list):\n",
    "            res += future.result()\n",
    "\n",
    "    with concurrent.futures.ThreadPoolExecutor(max_workers=32) as executor:\n",
    "        future_list = [executor.submit(get_log_q, mu, sigma2, beta, dof) for beta in sample_beta]\n",
    "        for future in concurrent.futures.as_completed(future_list):\n",
    "            res += future.result()\n",
    "            \n",
    "    return res / sample_size"
   ]
  },
  {
   "cell_type": "code",
   "execution_count": 33,
   "metadata": {},
   "outputs": [],
   "source": [
    "def bbvi_cv(x, y, mu, sigma2, lr, n_iter, m, v, dof):\n",
    "    sample_size = 64\n",
    "    sample_beta = np.zeros(shape=(2, sample_size))\n",
    "    sample_beta = np.random.normal(mu, np.sqrt(sigma2), size=[sample_size, mu.shape[0]])\n",
    "    # update mu\n",
    "    loss_mu = np.zeros(shape=[sample_size, mu.shape[0]])\n",
    "    loss_logsigma2 = np.zeros(shape=[sample_size, sigma2.shape[0]])\n",
    "    cv_mu = np.zeros(shape=[sample_size, mu.shape[0]])\n",
    "    cv_sigma2 = np.zeros(shape=[sample_size, sigma2.shape[0]])\n",
    "    for i in range(sample_size):\n",
    "        loss_mu[i] = cv_mu[i] = get_gradient_mu_t(sample_beta[i], mu, sigma2, dof)\n",
    "        loss_logsigma2[i] = cv_sigma2[i] = get_gradient_logsigma2_t(sample_beta[i], mu, sigma2, dof)\n",
    "        log_p = get_log_p(x, y, sample_beta[i])\n",
    "        log_q = get_log_q(mu, sigma2, sample_beta[i], dof)\n",
    "        loss_mu[i] *= (log_p - log_q)\n",
    "        loss_logsigma2[i] *= (log_p - log_q)\n",
    "        \n",
    "    cov_mu0 = np.cov(np.stack((cv_mu.T[0], loss_mu.T[0]), axis=0))\n",
    "    a_mu0 = cov_mu0[0][1] / cov_mu0[0][0]\n",
    "    cov_mu1 = np.cov(np.stack((cv_mu.T[1], loss_mu.T[1]), axis=0))\n",
    "    a_mu1 = cov_mu1[0][1] / cov_mu1[0][0]\n",
    "    cov_logsigma2 = np.cov(np.stack((cv_sigma2.T[0], loss_logsigma2.T[0]), axis=0))\n",
    "    a_logsigma2 = cov_logsigma2[0][1] / cov_logsigma2[0][0]\n",
    "    \n",
    "    update_mu = np.mean(loss_mu, axis=0)\n",
    "    update_logsigma2 = np.mean(loss_logsigma2, axis=0)\n",
    "    update_h_mu = np.mean(cv_mu, axis=0) * [a_mu0, a_mu1]\n",
    "    update_h_logsigma2 = np.mean(cv_sigma2, axis=0) * a_logsigma2\n",
    "    \n",
    "    var_mu = np.var(loss_mu - cv_mu * [a_mu0, a_mu1], axis=0)\n",
    "    var_sigma = np.var(loss_logsigma2 - cv_sigma2 * a_logsigma2, axis=0)\n",
    "    \n",
    "    grad = np.concatenate([update_mu - update_h_mu, update_logsigma2 - update_h_logsigma2])\n",
    "\n",
    "    m = 0.9 * m + 0.1 * grad\n",
    "    v = 0.999 * v + 0.001 * np.power(grad, 2)\n",
    "    \n",
    "    m_hat = m / (1 - np.power(0.9, n_iter))\n",
    "    v_hat = v / (1 - np.power(0.999, n_iter))\n",
    "    \n",
    "    update = m_hat / (np.sqrt(v_hat))\n",
    "    \n",
    "    mu += lr * update[:2]\n",
    "    sigma2 = np.exp(np.log(sigma2) + lr * update[2:])\n",
    "    return mu, sigma2, m, v, var_mu, var_sigma"
   ]
  },
  {
   "cell_type": "code",
   "execution_count": 37,
   "metadata": {},
   "outputs": [],
   "source": [
    "def train_bbvi_cv(x, y, n_iter, dof):\n",
    "    mu_list = []\n",
    "    sigma2_list = []\n",
    "    var_list = []\n",
    "    mu = np.random.normal(size=2)\n",
    "    sigma2 = np.power(np.random.normal(size=2), 2)\n",
    "    lr = 1\n",
    "    m = np.zeros(shape=4)\n",
    "    v = np.zeros(shape=4)\n",
    "    for i in range(n_iter):\n",
    "        mu, sigma2, m, v, var_mu, var_sigma = bbvi_cv(x, y, mu, sigma2, lr, i + 1, m, v, dof)\n",
    "        mu_list.append(mu.copy())\n",
    "        sigma2_list.append(sigma2.copy())\n",
    "        var_list.append([var_mu.copy(), var_sigma.copy()])\n",
    "    return mu_list, sigma2_list, var_list"
   ]
  },
  {
   "cell_type": "code",
   "execution_count": 38,
   "metadata": {
    "scrolled": true
   },
   "outputs": [
    {
     "data": {
      "text/plain": [
       "'\\nres_list = []\\nfor dof in range(1, 100):\\n    mu_bbvi_cv, sigma2_bbvi_cv, var_bbvi_cv = train_bbvi_cv(x, y, 400, dof)\\n    elbo_list = [elbo(x, y, mu_bbvi_cv[i], sigma2_bbvi_cv[i], dof) for i in range(390, 400)]\\n    res_list.append(np.mean(np.array(elbo_list)))\\n    print(dof , \": \", res_list[dof - 1])\\n'"
      ]
     },
     "execution_count": 38,
     "metadata": {},
     "output_type": "execute_result"
    }
   ],
   "source": [
    "'''\n",
    "res_list = []\n",
    "for dof in range(1, 100):\n",
    "    mu_bbvi_cv, sigma2_bbvi_cv, var_bbvi_cv = train_bbvi_cv(x, y, 400, dof)\n",
    "    elbo_list = [elbo(x, y, mu_bbvi_cv[i], sigma2_bbvi_cv[i], dof) for i in range(390, 400)]\n",
    "    res_list.append(np.mean(np.array(elbo_list)))\n",
    "    print(dof , \": \", res_list[dof - 1])\n",
    "'''"
   ]
  },
  {
   "cell_type": "code",
   "execution_count": null,
   "metadata": {
    "scrolled": true
   },
   "outputs": [],
   "source": []
  },
  {
   "cell_type": "code",
   "execution_count": 39,
   "metadata": {
    "scrolled": true
   },
   "outputs": [],
   "source": [
    "mu_bbvi_cv, sigma2_bbvi_cv, var_bbvi_cv = train_bbvi_cv(x, y, 1000, 1)"
   ]
  },
  {
   "cell_type": "code",
   "execution_count": 35,
   "metadata": {},
   "outputs": [
    {
     "data": {
      "text/plain": [
       "-4448.285145721739"
      ]
     },
     "execution_count": 35,
     "metadata": {},
     "output_type": "execute_result"
    }
   ],
   "source": [
    "elbo(x, y, mu_bbvi_cv[-1], sigma2_bbvi_cv[-1], 1)"
   ]
  },
  {
   "cell_type": "code",
   "execution_count": 36,
   "metadata": {},
   "outputs": [
    {
     "data": {
      "text/plain": [
       "[array([0.00142832, 0.00077899]),\n",
       " array([0.00141647, 0.00077461]),\n",
       " array([0.00140369, 0.0007682 ]),\n",
       " array([0.00140048, 0.00076696]),\n",
       " array([0.00139428, 0.00076355]),\n",
       " array([0.00138799, 0.00075944]),\n",
       " array([0.00138224, 0.00075325]),\n",
       " array([0.00137951, 0.00074935]),\n",
       " array([0.0013739 , 0.00074358]),\n",
       " array([0.00136833, 0.0007376 ])]"
      ]
     },
     "execution_count": 36,
     "metadata": {},
     "output_type": "execute_result"
    }
   ],
   "source": [
    "sigma2_bbvi_cv[-10:]"
   ]
  },
  {
   "cell_type": "code",
   "execution_count": null,
   "metadata": {},
   "outputs": [],
   "source": []
  }
 ],
 "metadata": {
  "kernelspec": {
   "display_name": "Python 3",
   "language": "python",
   "name": "python3"
  },
  "language_info": {
   "codemirror_mode": {
    "name": "ipython",
    "version": 3
   },
   "file_extension": ".py",
   "mimetype": "text/x-python",
   "name": "python",
   "nbconvert_exporter": "python",
   "pygments_lexer": "ipython3",
   "version": "3.7.0"
  }
 },
 "nbformat": 4,
 "nbformat_minor": 2
}
