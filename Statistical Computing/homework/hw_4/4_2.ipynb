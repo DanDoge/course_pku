{
 "cells": [
  {
   "cell_type": "code",
   "execution_count": null,
   "metadata": {},
   "outputs": [],
   "source": [
    "import numpy as np"
   ]
  },
  {
   "cell_type": "code",
   "execution_count": null,
   "metadata": {},
   "outputs": [],
   "source": [
    "data = np.load(\"mcs_hw2_p3_data.npy\")"
   ]
  },
  {
   "cell_type": "code",
   "execution_count": null,
   "metadata": {},
   "outputs": [],
   "source": [
    "x = data[:, :2]\n",
    "y = data[:, 2]"
   ]
  },
  {
   "cell_type": "code",
   "execution_count": null,
   "metadata": {},
   "outputs": [],
   "source": [
    "import scipy.stats\n",
    "\n",
    "def get_gradient_mu(beta, mu, sigma2):\n",
    "    return (beta - mu) / sigma2\n",
    "\n",
    "def get_gradient_logsigma2(beta, mu, sigma2):\n",
    "    norm = np.linalg.norm(beta - mu)\n",
    "    return (- 1 / sigma2 + norm * norm / (2 * sigma2 * sigma2)) * sigma2\n",
    "\n",
    "def get_gradient_mu_t(beta, mu, sigma2, v):\n",
    "    res = -(v + 2) / 2\n",
    "    norm = np.linalg.norm(beta - mu)\n",
    "    res *= 1 / (1 + norm * norm / (v * sigma2))\n",
    "    res *= 2 * (mu - beta) / (v * sigma2)\n",
    "    return res\n",
    "\n",
    "def get_gradient_logsigma2_t(beta, mu, sigm2, v):\n",
    "    res_1 = - 1 / sigma2\n",
    "    norm = np.linalg.norm(beta - mu)\n",
    "    res_2 = (v + 2) / 2 \n",
    "    res_2 *= 1 / (1 + norm * norm / (v * sigma2))\n",
    "    res_2 *= norm * norm / v\n",
    "    res_2 *= -1 / (sigma2 * sigma2)\n",
    "    return res_1 - res_2\n",
    "\n",
    "def sigmoid(x):\n",
    "    return 1 / (1 + np.exp(-x))\n",
    "\n",
    "def get_log_p(x, y, beta):\n",
    "    res = 0.0\n",
    "    res += np.sum(y * np.log(sigmoid(np.dot(x, beta))) + (1.0 - y) * np.log(1 - sigmoid(np.dot(x, beta))))\n",
    "    res += np.sum(scipy.stats.norm.logpdf(beta, np.zeros(2), np.ones(2)))\n",
    "    return res\n",
    "\n",
    "def get_log_q(mu, sigma2, beta):\n",
    "    res = np.sum(scipy.stats.norm.logpdf(beta, mu, np.sqrt(sigma2)))\n",
    "    return res\n",
    "\n",
    "import concurrent.futures\n",
    "\n",
    "def elbo(x, y, mu, sigma2):\n",
    "    res = 0.0\n",
    "    sample_size = 1024\n",
    "    sample_beta = np.random.normal(mu, np.sqrt(sigma2), size=[sample_size, mu.shape[0]])\n",
    "    with concurrent.futures.ThreadPoolExecutor(max_workers=32) as executor:\n",
    "        future_list = [executor.submit(get_log_p, x, y, beta) for beta in sample_beta]\n",
    "        for future in concurrent.futures.as_completed(future_list):\n",
    "            res += future.result()\n",
    "\n",
    "    with concurrent.futures.ThreadPoolExecutor(max_workers=32) as executor:\n",
    "        future_list = [executor.submit(get_log_q, mu, sigma2, beta) for beta in sample_beta]\n",
    "        for future in concurrent.futures.as_completed(future_list):\n",
    "            res += future.result()\n",
    "            \n",
    "    return res / sample_size"
   ]
  },
  {
   "cell_type": "code",
   "execution_count": null,
   "metadata": {},
   "outputs": [],
   "source": [
    "def bbvi(x, y, mu, sigma2, lr, n_iter, m, v):\n",
    "    sample_size = 4\n",
    "    sample_beta = np.random.normal(mu, np.sqrt(sigma2), size=[sample_size, mu.shape[0]])\n",
    "    # update mu\n",
    "    loss_mu = np.zeros(shape=[sample_size, mu.shape[0]])\n",
    "    loss_logsigma2 = np.zeros(shape=[sample_size, sigma2.shape[0]])\n",
    "    for i in range(sample_size):\n",
    "        loss_mu[i] = get_gradient_mu(sample_beta[i], mu, sigma2)\n",
    "        loss_logsigma2[i] = get_gradient_logsigma2(sample_beta[i], mu, sigma2)\n",
    "        log_p = get_log_p(x, y, sample_beta[i])\n",
    "        log_q = get_log_q(mu, sigma2, sample_beta[i])\n",
    "        loss_mu[i] *= (log_p - log_q)\n",
    "        loss_logsigma2[i] *= (log_p - log_q)\n",
    "    update_mu = np.mean(loss_mu, axis=0)\n",
    "    var_loss_mu = np.var(loss_mu, axis=0)\n",
    "    update_logsigma2 = np.mean(loss_logsigma2, axis=0)\n",
    "    var_loss_logsigma2 = np.var(loss_logsigma2, axis=0)\n",
    "    \n",
    "    grad = np.concatenate([update_mu, update_logsigma2])\n",
    "    \n",
    "    m = 0.9 * m + 0.1 * grad\n",
    "    v = 0.999 * v + 0.001 * np.power(grad, 2)\n",
    "    \n",
    "    m_hat = m / (1 - np.power(0.9, n_iter))\n",
    "    v_hat = v / (1 - np.power(0.999, n_iter))\n",
    "    \n",
    "    update = m_hat / (np.sqrt(v_hat) + 1e-10)\n",
    "    \n",
    "    mu += lr * update[:2]\n",
    "    sigma2 = np.exp(np.log(sigma2) + lr * update[2])\n",
    "    return mu, sigma2, m, v, var_loss_mu, var_loss_logsigma2"
   ]
  },
  {
   "cell_type": "code",
   "execution_count": null,
   "metadata": {},
   "outputs": [],
   "source": [
    "def train_bbvi(x, y, n_iter):\n",
    "    mu_list = []\n",
    "    sigma2_list = []\n",
    "    var_list = []\n",
    "    mu = np.random.normal(size=2)\n",
    "    sigma2 = np.power(np.random.normal(size=1), 2)\n",
    "    lr = 0.1\n",
    "    m = np.zeros(shape=3)\n",
    "    v = np.zeros(shape=3)\n",
    "    for i in range(n_iter):\n",
    "        mu, sigma2, m, v, var_mu, var_sigma = bbvi(x, y, mu, sigma2, lr, i + 1, m, v)\n",
    "        mu_list.append(mu.copy())\n",
    "        sigma2_list.append(sigma2.copy())\n",
    "        var_list.append([var_mu.copy(), var_sigma.copy()])\n",
    "    return mu_list, sigma2_list, var_list"
   ]
  },
  {
   "cell_type": "code",
   "execution_count": null,
   "metadata": {},
   "outputs": [],
   "source": [
    "def bbvi_cv(x, y, mu, sigma2, lr, n_iter, m, v):\n",
    "    sample_size = 4\n",
    "    sample_beta = np.random.normal(mu, np.sqrt(sigma2), size=[sample_size, mu.shape[0]])\n",
    "    # update mu\n",
    "    loss_mu = np.zeros(shape=[sample_size, mu.shape[0]])\n",
    "    loss_logsigma2 = np.zeros(shape=[sample_size, sigma2.shape[0]])\n",
    "    cv_mu = np.zeros(shape=[sample_size, mu.shape[0]])\n",
    "    cv_sigma2 = np.zeros(shape=[sample_size, sigma2.shape[0]])\n",
    "    for i in range(sample_size):\n",
    "        loss_mu[i] = cv_mu[i] = get_gradient_mu(sample_beta[i], mu, sigma2)\n",
    "        loss_logsigma2[i] = cv_sigma2[i] = get_gradient_logsigma2(sample_beta[i], mu, sigma2)\n",
    "        log_p = get_log_p(x, y, sample_beta[i])\n",
    "        log_q = get_log_q(mu, sigma2, sample_beta[i])\n",
    "        loss_mu[i] *= (log_p - log_q)\n",
    "        loss_logsigma2[i] *= (log_p - log_q)\n",
    "        \n",
    "    cov_mu0 = np.cov(np.stack((cv_mu.T[0], loss_mu.T[0]), axis=0))\n",
    "    a_mu0 = cov_mu0[0][1] / cov_mu0[0][0]\n",
    "    cov_mu1 = np.cov(np.stack((cv_mu.T[1], loss_mu.T[1]), axis=0))\n",
    "    a_mu1 = cov_mu1[0][1] / cov_mu1[0][0]\n",
    "    cov_logsigma2 = np.cov(np.stack((cv_sigma2.T[0], loss_logsigma2.T[0]), axis=0))\n",
    "    a_logsigma2 = cov_logsigma2[0][1] / cov_logsigma2[0][0]\n",
    "    \n",
    "    update_mu = np.mean(loss_mu, axis=0)\n",
    "    update_logsigma2 = np.mean(loss_logsigma2, axis=0)\n",
    "    update_h_mu = np.mean(cv_mu, axis=0) * [a_mu0, a_mu1]\n",
    "    update_h_logsigma2 = np.mean(cv_sigma2, axis=0) * a_logsigma2\n",
    "    \n",
    "    var_mu = np.var(loss_mu - cv_mu * [a_mu0, a_mu1], axis=0)\n",
    "    var_sigma = np.var(loss_logsigma2 - cv_sigma2 * a_logsigma2, axis=0)\n",
    "    \n",
    "    grad = np.concatenate([update_mu - update_h_mu, update_logsigma2 - update_h_logsigma2])\n",
    "\n",
    "    m = 0.9 * m + 0.1 * grad\n",
    "    v = 0.999 * v + 0.001 * np.power(grad, 2)\n",
    "    \n",
    "    m_hat = m / (1 - np.power(0.9, n_iter))\n",
    "    v_hat = v / (1 - np.power(0.999, n_iter))\n",
    "    \n",
    "    update = m_hat / (np.sqrt(v_hat) + 1e-10)\n",
    "    \n",
    "    mu += lr * update[:2]\n",
    "    sigma2 = np.exp(np.log(sigma2) + lr * update[2])\n",
    "    #print(mu, sigma2)\n",
    "    return mu, sigma2, m, v, var_mu, var_sigma"
   ]
  },
  {
   "cell_type": "code",
   "execution_count": null,
   "metadata": {},
   "outputs": [],
   "source": [
    "def train_bbvi_cv(x, y, n_iter):\n",
    "    mu_list = []\n",
    "    sigma2_list = []\n",
    "    var_list = []\n",
    "    mu = np.random.normal(size=2)\n",
    "    sigma2 = np.power(np.random.normal(size=1), 2)\n",
    "    lr = 0.1\n",
    "    m = np.zeros(shape=3)\n",
    "    v = np.zeros(shape=3)\n",
    "    for i in range(n_iter):\n",
    "        mu, sigma2, m, v, var_mu, var_sigma = bbvi_cv(x, y, mu, sigma2, lr, i + 1, m, v)\n",
    "        mu_list.append(mu.copy())\n",
    "        sigma2_list.append(sigma2.copy())\n",
    "        var_list.append([var_mu.copy(), var_sigma.copy()])\n",
    "    return mu_list, sigma2_list, var_list"
   ]
  },
  {
   "cell_type": "code",
   "execution_count": null,
   "metadata": {},
   "outputs": [],
   "source": [
    "def get_gradient_mu_rt(x, y, mu, sigma2, eps):\n",
    "    beta = mu + eps * np.sqrt(sigma2)\n",
    "    data_part = (y * (1 - sigmoid(np.dot(x, beta))))[:, None] * x \n",
    "    data_part += ((y - 1) * sigmoid(np.dot(x, beta)))[:, None] * x\n",
    "    data_part = np.sum(data_part, axis=0)\n",
    "    return data_part - beta"
   ]
  },
  {
   "cell_type": "code",
   "execution_count": null,
   "metadata": {},
   "outputs": [],
   "source": [
    "def get_gradient_logsigma2_rt(x, y, mu, sigma2, eps):\n",
    "    res = 0.0\n",
    "    beta = mu + eps * np.sqrt(sigma2)\n",
    "    data_part = (y * (1 - sigmoid(np.dot(x, beta))))[:, None] * x \n",
    "    data_part += ((y - 1) * sigmoid(np.dot(x, beta)))[:, None] * x\n",
    "    data_part = np.sum(data_part, axis=0)\n",
    "    res += (data_part - beta) * eps / (2 * np.sqrt(sigma2))\n",
    "    res = np.sum(res) \n",
    "    res += 1 / sigma2\n",
    "    return res"
   ]
  },
  {
   "cell_type": "code",
   "execution_count": null,
   "metadata": {},
   "outputs": [],
   "source": [
    "def bbvi_rt(x, y, mu, sigma2, lr, n_iter, m, v):\n",
    "    sample_size = 4\n",
    "    sample_eps = np.random.normal(size=[sample_size, mu.shape[0]])\n",
    "    # update mu\n",
    "    loss_mu = np.zeros(shape=[sample_size, mu.shape[0]])\n",
    "    loss_logsigma2 = np.zeros(shape=[sample_size, sigma2.shape[0]])\n",
    "    for i in range(sample_size):\n",
    "        loss_mu[i] = get_gradient_mu_rt(x, y, mu, sigma2, sample_eps[i])\n",
    "        loss_logsigma2[i] = get_gradient_logsigma2_rt(x, y, mu, sigma2, sample_eps[i])\n",
    "    update_mu = np.mean(loss_mu, axis=0)\n",
    "    update_logsigma2 = np.mean(loss_logsigma2, axis=0)\n",
    "    \n",
    "    var_loss_mu = np.var(loss_mu, axis=0)\n",
    "    var_loss_logsigma2 = np.var(loss_logsigma2, axis=0)\n",
    "    \n",
    "    grad = np.concatenate([update_mu, update_logsigma2])\n",
    "    m = 0.9 * m + 0.1 * grad\n",
    "    v = 0.999 * v + 0.001 * np.power(grad, 2)\n",
    "    \n",
    "    m_hat = m / (1 - np.power(0.9, n_iter))\n",
    "    v_hat = v / (1 - np.power(0.999, n_iter))\n",
    "    \n",
    "    update = m_hat / (np.sqrt(v_hat) + 1e-10)\n",
    "    \n",
    "    mu += lr * update[:2]\n",
    "    sigma2 = np.exp(np.log(sigma2) + lr * update[2])\n",
    "    #print(mu, sigma2)\n",
    "    return mu, sigma2, m, v, var_loss_mu, var_loss_logsigma2"
   ]
  },
  {
   "cell_type": "code",
   "execution_count": null,
   "metadata": {},
   "outputs": [],
   "source": [
    "def train_bbvi_rt(x, y, n_iter):\n",
    "    mu_list = []\n",
    "    sigma2_list = []\n",
    "    var_list = []\n",
    "    mu = np.random.normal(size=2)\n",
    "    sigma2 = np.power(np.random.normal(size=1), 2)\n",
    "    lr = 0.1\n",
    "    m = np.zeros(shape=3)\n",
    "    v = np.zeros(shape=3)\n",
    "    for i in range(n_iter):\n",
    "        mu, sigma2, m, v, var_mu, var_sigma = bbvi_rt(x, y, mu, sigma2, lr, i + 1, m, v)\n",
    "        mu_list.append(mu.copy())\n",
    "        sigma2_list.append(sigma2.copy())\n",
    "        var_list.append([var_mu.copy(), var_sigma.copy()])\n",
    "    return mu_list, sigma2_list, var_list"
   ]
  },
  {
   "cell_type": "code",
   "execution_count": null,
   "metadata": {},
   "outputs": [],
   "source": [
    "def get_batch(X, Y, batch_size):\n",
    "    n = X.shape[0]\n",
    "    start_ele = np.random.randint(0, n)\n",
    "    if start_ele + batch_size >= n:\n",
    "        X_batch = np.concatenate((X[start_ele: ], X[ :start_ele + batch_size - n]))\n",
    "        Y_batch = np.concatenate((Y[start_ele: ], Y[ :start_ele + batch_size - n]))\n",
    "    else:\n",
    "        X_batch = X[start_ele: (start_ele + batch_size)]\n",
    "        Y_batch = Y[start_ele: (start_ele + batch_size)]\n",
    "    return X_batch, Y_batch"
   ]
  },
  {
   "cell_type": "code",
   "execution_count": null,
   "metadata": {},
   "outputs": [],
   "source": [
    "def train_bbvi_batch(x, y, n_iter, batch_size):\n",
    "    mu_list = []\n",
    "    sigma2_list = []\n",
    "    var_list = []\n",
    "    mu = np.random.normal(size=2)\n",
    "    sigma2 = np.power(np.random.normal(size=1), 2)\n",
    "    lr = 0.1\n",
    "    m = np.zeros(shape=3)\n",
    "    v = np.zeros(shape=3)\n",
    "    for i in range(n_iter):\n",
    "        x_b, y_b = get_batch(x, y, batch_size)\n",
    "        mu, sigma2, m, v = bbvi(x, y, mu, sigma2, lr, i + 1, m, v)\n",
    "        mu_list.append(mu.copy())\n",
    "        sigma2_list.append(sigma2.copy())\n",
    "    return mu_list, sigma2_list"
   ]
  },
  {
   "cell_type": "code",
   "execution_count": null,
   "metadata": {},
   "outputs": [],
   "source": [
    "def train_bbvi_rt_batch(x, y, n_iter, batch_size):\n",
    "    mu_list = []\n",
    "    sigma2_list = []\n",
    "    var_list = []\n",
    "    mu = np.random.normal(size=2)\n",
    "    sigma2 = np.power(np.random.normal(size=1), 2)\n",
    "    lr = 0.1\n",
    "    m = np.zeros(shape=3)\n",
    "    v = np.zeros(shape=3)\n",
    "    for i in range(n_iter):\n",
    "        x_b, y_b = get_batch(x, y, batch_size)\n",
    "        mu, sigma2, m, v, var_mu, var_sigma = bbvi_rt(x, y, mu, sigma2, lr, i + 1, m, v)\n",
    "        mu_list.append(mu.copy())\n",
    "        sigma2_list.append(sigma2.copy())\n",
    "        var_list.append([var_mu.copy(), var_sigma.copy()])\n",
    "    return mu_list, sigma2_list, var_list"
   ]
  },
  {
   "cell_type": "code",
   "execution_count": null,
   "metadata": {},
   "outputs": [],
   "source": [
    "def train_bbvi_cv_batch(x, y, n_iter, batch_size):\n",
    "    mu_list = []\n",
    "    sigma2_list = []\n",
    "    mu = np.random.normal(size=2)\n",
    "    sigma2 = np.power(np.random.normal(size=1), 2)\n",
    "    lr = 0.1\n",
    "    m = np.zeros(shape=3)\n",
    "    v = np.zeros(shape=3)\n",
    "    for i in range(n_iter):\n",
    "        x_b, y_b = get_batch(x, y, batch_size)\n",
    "        mu, sigma2, m, v = bbvi_cv(x, y, mu, sigma2, lr, i + 1, m, v)\n",
    "        mu_list.append(mu.copy())\n",
    "        sigma2_list.append(sigma2.copy())\n",
    "    return mu_list, sigma2_list"
   ]
  },
  {
   "cell_type": "code",
   "execution_count": null,
   "metadata": {},
   "outputs": [],
   "source": [
    "mu_bbvi, sigma2_bbvi, var_bbvi = train_bbvi(x, y, 1000)"
   ]
  },
  {
   "cell_type": "code",
   "execution_count": null,
   "metadata": {},
   "outputs": [],
   "source": [
    "mu_bbvi_cv, sigma2_bbvi_cv, var_bbvi_cv = train_bbvi_cv(x, y, 1000)"
   ]
  },
  {
   "cell_type": "code",
   "execution_count": null,
   "metadata": {
    "scrolled": true
   },
   "outputs": [],
   "source": [
    "mu_bbvi_rt, sigma2_bbvi_rt, var_bbvi_rt = train_bbvi_rt(x, y, 1000)"
   ]
  },
  {
   "cell_type": "code",
   "execution_count": null,
   "metadata": {},
   "outputs": [],
   "source": [
    "elbo_bbvi = [elbo(x, y, mu_bbvi[i], sigma2_bbvi[i]) for i in range(1000)]\n",
    "elbo_bbvi_cv = [elbo(x, y, mu_bbvi_cv[i], sigma2_bbvi_cv[i]) for i in range(1000)]\n",
    "elbo_bbvi_rt = [elbo(x, y, mu_bbvi_rt[i], sigma2_bbvi_rt[i]) for i in range(1000)]"
   ]
  },
  {
   "cell_type": "code",
   "execution_count": null,
   "metadata": {},
   "outputs": [],
   "source": [
    "import pickle\n",
    "with open(\"./elbo_bbvi\", \"wb\") as f:\n",
    "    pickle.dump(elbo_bbvi, f)\n",
    "    \n",
    "with open(\"./elbo_bbvi_cv\", \"wb\") as f:\n",
    "    pickle.dump(elbo_bbvi_cv, f)\n",
    "    "
   ]
  },
  {
   "cell_type": "code",
   "execution_count": null,
   "metadata": {
    "scrolled": true
   },
   "outputs": [],
   "source": [
    "import pickle\n",
    "with open(\"./elbo_bbvi_rt\", \"wb\") as f:\n",
    "    pickle.dump(elbo_bbvi_rt, f)"
   ]
  },
  {
   "cell_type": "code",
   "execution_count": null,
   "metadata": {},
   "outputs": [],
   "source": [
    "import matplotlib.pyplot as plt"
   ]
  },
  {
   "cell_type": "code",
   "execution_count": null,
   "metadata": {},
   "outputs": [],
   "source": [
    "plt.plot(elbo_bbvi, label=\"vanilla bbvi\")\n",
    "plt.plot(elbo_bbvi_cv, label=\"bbvi cv\")\n",
    "plt.plot(elbo_bbvi_rt, label=\"bbvi rt\")\n",
    "plt.legend()\n",
    "plt.savefig(\"bbvi_full_batch\")"
   ]
  },
  {
   "cell_type": "code",
   "execution_count": null,
   "metadata": {},
   "outputs": [],
   "source": [
    "plt.plot(np.log(-np.array(elbo_bbvi)), label=\"vanilla bbvi\")\n",
    "plt.plot(np.log(-np.array(elbo_bbvi_cv)), label=\"bbvi cv\")\n",
    "plt.plot(np.log(-np.array(elbo_bbvi_rt)), label=\"bbvi rt\")\n",
    "plt.legend()\n",
    "plt.savefig(\"bbvi_full_batch_nll\")"
   ]
  },
  {
   "cell_type": "code",
   "execution_count": null,
   "metadata": {},
   "outputs": [],
   "source": [
    "var_bbvi_sigma = [i[1][0] for i in var_bbvi]\n",
    "var_bbvi_cv_sigma = [i[1][0] for i in var_bbvi_cv]\n",
    "var_bbvi_rt_sigma = [i[1][0] for i in var_bbvi_rt]"
   ]
  },
  {
   "cell_type": "code",
   "execution_count": null,
   "metadata": {},
   "outputs": [],
   "source": [
    "var_bbvi_mu = [np.mean(i[0]) for i in var_bbvi]\n",
    "var_bbvi_cv_mu = [np.mean(i[0]) for i in var_bbvi_cv]\n",
    "var_bbvi_rt_mu = [np.mean(i[0]) for i in var_bbvi_rt]"
   ]
  },
  {
   "cell_type": "code",
   "execution_count": null,
   "metadata": {},
   "outputs": [],
   "source": [
    "plt.plot(np.log(np.array(var_bbvi_sigma)), label=\"vanilla bbvi\")\n",
    "plt.plot(np.log(np.array(var_bbvi_cv_sigma)), label=\"bbvi cv\")\n",
    "plt.plot(np.log(np.array(var_bbvi_rt_sigma)), label=\"bbvi rt\")\n",
    "plt.legend()\n",
    "plt.savefig(\"bbvi_full_batch_var_sigma_4\")"
   ]
  },
  {
   "cell_type": "code",
   "execution_count": null,
   "metadata": {},
   "outputs": [],
   "source": [
    "plt.plot(np.log(np.array(var_bbvi_mu)), label=\"vanilla bbvi\")\n",
    "plt.plot(np.log(np.array(var_bbvi_cv_mu)), label=\"bbvi cv\")\n",
    "plt.plot(np.log(np.array(var_bbvi_rt_mu)), label=\"bbvi rt\")\n",
    "plt.legend()\n",
    "plt.savefig(\"bbvi_full_batch_var_mu_4\")"
   ]
  },
  {
   "cell_type": "code",
   "execution_count": null,
   "metadata": {
    "scrolled": true
   },
   "outputs": [],
   "source": [
    "mu_bbvi_b, sigma2_bbvi_b = train_bbvi_batch(x, y, 10000, 1000)"
   ]
  },
  {
   "cell_type": "code",
   "execution_count": null,
   "metadata": {},
   "outputs": [],
   "source": [
    "import pickle\n",
    "\n",
    "with open(\"./mu_bbvi_b\", \"wb\") as f:\n",
    "    pickle.dump(mu_bbvi_b, f)\n",
    "    \n",
    "with open(\"./sigma2_bbvi_b\", \"wb\") as f:\n",
    "    pickle.dump(sigma2_bbvi_b, f)"
   ]
  },
  {
   "cell_type": "code",
   "execution_count": null,
   "metadata": {
    "scrolled": true
   },
   "outputs": [],
   "source": [
    "mu_bbvi_cv_b, sigma2_bbvi_cv_b = train_bbvi_cv_batch(x, y, 10000, 1000)"
   ]
  },
  {
   "cell_type": "code",
   "execution_count": null,
   "metadata": {},
   "outputs": [],
   "source": [
    "with open(\"./mu_bbvi_cv_b\", \"wb\") as f:\n",
    "    pickle.dump(mu_bbvi_cv_b, f)\n",
    "    \n",
    "with open(\"./sigma2_bbvi_cv_b\", \"wb\") as f:\n",
    "    pickle.dump(sigma2_bbvi_cv_b, f)"
   ]
  },
  {
   "cell_type": "code",
   "execution_count": null,
   "metadata": {
    "scrolled": true
   },
   "outputs": [],
   "source": [
    "mu_bbvi_rt_b, sigma2_bbvi_rt_b, var_bbvi_rt_b = train_bbvi_rt_batch(x, y, 10000, 1000)"
   ]
  },
  {
   "cell_type": "code",
   "execution_count": null,
   "metadata": {},
   "outputs": [],
   "source": [
    "import pickle\n",
    "\n",
    "with open(\"./mu_bbvi_rt_b\", \"wb\") as f:\n",
    "    pickle.dump(mu_bbvi_rt_b, f)\n",
    "    \n",
    "with open(\"./sigma2_bbvi_rt_b\", \"wb\") as f:\n",
    "    pickle.dump(sigma2_bbvi_rt_b, f)"
   ]
  },
  {
   "cell_type": "code",
   "execution_count": null,
   "metadata": {},
   "outputs": [],
   "source": [
    "mu_bbvi, sigma2_bbvi = train_bbvi_cv_batch(x, y, 100, 100)"
   ]
  },
  {
   "cell_type": "code",
   "execution_count": null,
   "metadata": {},
   "outputs": [],
   "source": [
    "var_bbvi = np.array(var_bbvi)\n",
    "var_bbvi_cv = np.array(var_bbvi_cv)\n",
    "var_bbvi_rt = np.array(var_bbvi_rt)"
   ]
  }
 ],
 "metadata": {
  "kernelspec": {
   "display_name": "Python 3",
   "language": "python",
   "name": "python3"
  },
  "language_info": {
   "codemirror_mode": {
    "name": "ipython",
    "version": 3
   },
   "file_extension": ".py",
   "mimetype": "text/x-python",
   "name": "python",
   "nbconvert_exporter": "python",
   "pygments_lexer": "ipython3",
   "version": "3.7.0"
  }
 },
 "nbformat": 4,
 "nbformat_minor": 2
}
