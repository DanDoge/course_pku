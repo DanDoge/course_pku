{
 "cells": [
  {
   "cell_type": "code",
   "execution_count": 27,
   "metadata": {},
   "outputs": [],
   "source": [
    "import numpy as np\n",
    "import scipy.stats"
   ]
  },
  {
   "cell_type": "code",
   "execution_count": 28,
   "metadata": {},
   "outputs": [],
   "source": [
    "data = [8.1, 8.2, 8.1, 8.2, 8.2, 7.4, 7.3, 7.4, 8.1, 8.1, 7.9, 7.8, 8.2, 7.9, 7.9, 8.1, 8.1]\n",
    "data = np.array(data)"
   ]
  },
  {
   "cell_type": "code",
   "execution_count": 29,
   "metadata": {},
   "outputs": [],
   "source": [
    "def init():\n",
    "    mu1 = np.random.random_sample() * 4 + 6.0\n",
    "    mu2 = np.random.random_sample() * 4 + 6.0\n",
    "    var1 = np.random.random_sample() * 2.0\n",
    "    var2 = np.random.random_sample() * 2.0\n",
    "    w = np.random.random_sample()\n",
    "    return mu1, mu2, var1, var2, w"
   ]
  },
  {
   "cell_type": "code",
   "execution_count": 30,
   "metadata": {},
   "outputs": [],
   "source": [
    "def get_prob(x, mu, var):\n",
    "    return scipy.stats.norm(mu, np.sqrt(var)).pdf(x)"
   ]
  },
  {
   "cell_type": "code",
   "execution_count": 31,
   "metadata": {},
   "outputs": [],
   "source": [
    "def e_step(mu1, mu2, var1, var2, w):\n",
    "    soft_label = np.zeros(shape = data.shape)\n",
    "    for i, x in enumerate(data):\n",
    "        soft_label[i] = (w * get_prob(x, mu1, var1)) / (w * get_prob(x, mu1, var1) + (1 - w) * get_prob(x, mu2, var2))\n",
    "    return soft_label"
   ]
  },
  {
   "cell_type": "code",
   "execution_count": 32,
   "metadata": {},
   "outputs": [],
   "source": [
    "def m_step(mu1, mu2, var1, var2, w, soft_label):\n",
    "    mu1 = np.sum(data * soft_label) / np.sum(soft_label)\n",
    "    mu2 = np.sum(data * (1.0 - soft_label)) / np.sum(1.0 - soft_label)\n",
    "    var1 = np.sum((data - mu1) * (data - mu1) * soft_label) / np.sum(soft_label)\n",
    "    var2 = np.sum((data - mu2) * (data - mu2) * (1.0 - soft_label)) / np.sum(1.0 - soft_label)\n",
    "    w = np.sum(soft_label) / data.shape[0]\n",
    "    return mu1, mu2, var1, var2, w"
   ]
  },
  {
   "cell_type": "code",
   "execution_count": 33,
   "metadata": {},
   "outputs": [],
   "source": [
    "def EM():\n",
    "    mu1, mu2, var1, var2, w = init()\n",
    "    for i in range(100):\n",
    "        soft_label = e_step(mu1, mu2, var1, var2, w)\n",
    "        mu1, mu2, var1, var2, w = m_step(mu1, mu2, var1, var2, w, soft_label)\n",
    "    return mu1, mu2, var1, var2, w"
   ]
  },
  {
   "cell_type": "code",
   "execution_count": 34,
   "metadata": {},
   "outputs": [
    {
     "name": "stderr",
     "output_type": "stream",
     "text": [
      "C:\\Users\\AndrewHuang\\Anaconda3\\lib\\site-packages\\scipy\\stats\\_distn_infrastructure.py:1652: RuntimeWarning: divide by zero encountered in double_scalars\n",
      "  x = np.asarray((x - loc)/scale, dtype=dtyp)\n",
      "C:\\Users\\AndrewHuang\\Anaconda3\\lib\\site-packages\\scipy\\stats\\_distn_infrastructure.py:1652: RuntimeWarning: invalid value encountered in double_scalars\n",
      "  x = np.asarray((x - loc)/scale, dtype=dtyp)\n",
      "C:\\Users\\AndrewHuang\\Anaconda3\\lib\\site-packages\\scipy\\stats\\_distn_infrastructure.py:876: RuntimeWarning: invalid value encountered in greater_equal\n",
      "  return (self.a <= x) & (x <= self.b)\n",
      "C:\\Users\\AndrewHuang\\Anaconda3\\lib\\site-packages\\scipy\\stats\\_distn_infrastructure.py:876: RuntimeWarning: invalid value encountered in less_equal\n",
      "  return (self.a <= x) & (x <= self.b)\n",
      "C:\\Users\\AndrewHuang\\Anaconda3\\lib\\site-packages\\scipy\\stats\\_distn_infrastructure.py:1653: RuntimeWarning: invalid value encountered in greater\n",
      "  cond0 = self._argcheck(*args) & (scale > 0)\n",
      "C:\\Users\\AndrewHuang\\Anaconda3\\lib\\site-packages\\scipy\\stats\\_distn_infrastructure.py:1654: RuntimeWarning: invalid value encountered in greater\n",
      "  cond1 = self._support_mask(x) & (scale > 0)\n",
      "C:\\Users\\AndrewHuang\\Anaconda3\\lib\\site-packages\\ipykernel_launcher.py:3: RuntimeWarning: invalid value encountered in double_scalars\n",
      "  This is separate from the ipykernel package so we can avoid doing imports until\n"
     ]
    }
   ],
   "source": [
    "res_list = []\n",
    "for i in range(100):\n",
    "    res_list.append(EM())"
   ]
  },
  {
   "cell_type": "code",
   "execution_count": 35,
   "metadata": {},
   "outputs": [],
   "source": [
    "res_conv_list = []\n",
    "for res in res_list:\n",
    "    if res[0] < 1e5:\n",
    "        res_conv_list.append(res)"
   ]
  },
  {
   "cell_type": "code",
   "execution_count": 37,
   "metadata": {},
   "outputs": [],
   "source": [
    "import matplotlib.pyplot as plt"
   ]
  },
  {
   "cell_type": "code",
   "execution_count": 38,
   "metadata": {},
   "outputs": [],
   "source": [
    "res_conv_list = np.array(res_conv_list)"
   ]
  },
  {
   "cell_type": "code",
   "execution_count": 39,
   "metadata": {},
   "outputs": [
    {
     "data": {
      "image/png": "[encoded data removed]",
      "text/plain": [
       "<Figure size 432x288 with 1 Axes>"
      ]
     },
     "metadata": {
      "needs_background": "light"
     },
     "output_type": "display_data"
    }
   ],
   "source": [
    "plt.scatter(res_conv_list[:, 0], res_conv_list[:, 1])\n",
    "plt.savefig(\"mu_mode\")"
   ]
  },
  {
   "cell_type": "code",
   "execution_count": 40,
   "metadata": {},
   "outputs": [
    {
     "data": {
      "image/png": "[encoded data removed]",
      "text/plain": [
       "<Figure size 432x288 with 1 Axes>"
      ]
     },
     "metadata": {
      "needs_background": "light"
     },
     "output_type": "display_data"
    }
   ],
   "source": [
    "plt.scatter(res_conv_list[:, 2], res_conv_list[:, 3])\n",
    "plt.savefig(\"sigma_mode\")"
   ]
  },
  {
   "cell_type": "code",
   "execution_count": null,
   "metadata": {},
   "outputs": [],
   "source": []
  }
 ],
 "metadata": {
  "kernelspec": {
   "display_name": "Python 3",
   "language": "python",
   "name": "python3"
  },
  "language_info": {
   "codemirror_mode": {
    "name": "ipython",
    "version": 3
   },
   "file_extension": ".py",
   "mimetype": "text/x-python",
   "name": "python",
   "nbconvert_exporter": "python",
   "pygments_lexer": "ipython3",
   "version": "3.7.0"
  }
 },
 "nbformat": 4,
 "nbformat_minor": 2
}
