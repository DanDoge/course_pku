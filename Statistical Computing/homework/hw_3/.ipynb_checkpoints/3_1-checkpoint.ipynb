{
 "cells": [
  {
   "cell_type": "code",
   "execution_count": 41,
   "metadata": {},
   "outputs": [],
   "source": [
    "import numpy as np\n",
    "import scipy.stats"
   ]
  },
  {
   "cell_type": "code",
   "execution_count": 48,
   "metadata": {},
   "outputs": [],
   "source": [
    "data = [8.1, 8.2, 8.1, 8.2, 8.2, 7.4, 7.3, 7.4, 8.1, 8.1, 7.9, 7.8, 8.2, 7.9, 7.9, 8.1, 8.1]\n",
    "data = np.array(data)"
   ]
  },
  {
   "cell_type": "code",
   "execution_count": 49,
   "metadata": {},
   "outputs": [],
   "source": [
    "def init():\n",
    "    mu1 = np.random.random_sample() * 4 + 6.0\n",
    "    mu2 = np.random.random_sample() * 4 + 6.0\n",
    "    var1 = np.random.random_sample() * 2.0\n",
    "    var2 = np.random.random_sample() * 2.0\n",
    "    w = np.random.random()\n",
    "    return mu1, mu2, var1, var2, w"
   ]
  },
  {
   "cell_type": "code",
   "execution_count": 50,
   "metadata": {},
   "outputs": [],
   "source": [
    "def get_prob(x, mu, var):\n",
    "    return scipy.stats.norm(mu, np.sqrt(var)).pdf(x)"
   ]
  },
  {
   "cell_type": "code",
   "execution_count": 51,
   "metadata": {},
   "outputs": [],
   "source": [
    "def e_step(mu1, mu2, var1, var2, w):\n",
    "    soft_label = np.zeros(shape = data.shape)\n",
    "    for i, x in enumerate(data):\n",
    "        soft_label = (w * get_prob(x, mu1, var1)) / (w * get_prob(x, mu1, var1) + (1 - w) * get_prob(x, mu2, var2))\n",
    "    return soft_label"
   ]
  },
  {
   "cell_type": "code",
   "execution_count": 46,
   "metadata": {},
   "outputs": [],
   "source": [
    "def m_step(mu1, mu2, var1, var2, w, soft_label):\n",
    "    mu1 = np.sum(data * soft_label) / np.sum(soft_label)\n",
    "    mu2 = np.sum(data * (1.0 - soft_label)) / np.sum(1.0 - soft_label)\n",
    "    var1 = np.sum((data - mu1) * (data - mu1) * soft_label) / np.sum(soft_label)\n",
    "    var2 = np.sum((data - mu2) * (data - mu2) * (1.0 - soft_label)) / np.sum(1.0 - soft_label)\n",
    "    w = np.sum(soft_label) / data.shape[0]\n",
    "    return mu1, mu2, var1, var2, w"
   ]
  },
  {
   "cell_type": "code",
   "execution_count": 47,
   "metadata": {},
   "outputs": [
    {
     "name": "stdout",
     "output_type": "stream",
     "text": [
      "0.0 0.0 0.0 0.0 0.0\n",
      "0.0 0.0 0.0 0.0 0.0\n",
      "0.0 0.0 0.0 0.0 0.0\n",
      "0.0 0.0 0.0 0.0 0.0\n",
      "0.0 0.0 0.0 0.0 0.0\n",
      "0.0 0.0 0.0 0.0 0.0\n",
      "0.0 0.0 0.0 0.0 0.0\n",
      "0.0 0.0 0.0 0.0 0.0\n",
      "0.0 0.0 0.0 0.0 0.0\n",
      "0.0 0.0 0.0 0.0 0.0\n"
     ]
    },
    {
     "name": "stderr",
     "output_type": "stream",
     "text": [
      "C:\\Users\\AndrewHuang\\Anaconda3\\lib\\site-packages\\scipy\\stats\\_distn_infrastructure.py:1652: RuntimeWarning: divide by zero encountered in double_scalars\n",
      "  x = np.asarray((x - loc)/scale, dtype=dtyp)\n"
     ]
    },
    {
     "name": "stdout",
     "output_type": "stream",
     "text": [
      "0.0 0.0 0.0 0.0 0.0\n",
      "0.0 0.0 0.0 0.0 0.0\n",
      "0.0 0.0 0.0 0.0 0.0\n",
      "0.0 0.0 0.0 0.0 0.0\n",
      "0.0 0.0 0.0 0.0 0.0\n",
      "0.0 0.0 0.0 0.0 0.0\n",
      "0.0 0.0 0.0 0.0 0.0\n",
      "0.0 0.0 0.0 0.0 0.0\n",
      "0.0 0.0 0.0 0.0 0.0\n",
      "0.0 0.0 0.0 0.0 0.0\n",
      "0.0 0.0 0.0 0.0 0.0\n",
      "0.0 0.0 0.0 0.0 0.0\n",
      "0.0 0.0 0.0 0.0 0.0\n",
      "0.0 0.0 0.0 0.0 0.0\n",
      "0.0 0.0 0.0 0.0 0.0\n",
      "0.0 0.0 0.0 0.0 0.0\n",
      "0.0 0.0 0.0 0.0 0.0\n",
      "0.0 0.0 0.0 0.0 0.0\n",
      "0.0 0.0 0.0 0.0 0.0\n",
      "0.0 0.0 0.0 0.0 0.0\n",
      "0.0 0.0 0.0 0.0 0.0\n",
      "0.0 0.0 0.0 0.0 0.0\n",
      "0.0 0.0 0.0 0.0 0.0\n",
      "0.0 0.0 0.0 0.0 0.0\n",
      "0.0 0.0 0.0 0.0 0.0\n",
      "0.0 0.0 0.0 0.0 0.0\n",
      "0.0 0.0 0.0 0.0 0.0\n",
      "0.0 0.0 0.0 0.0 0.0\n",
      "0.0 0.0 0.0 0.0 0.0\n",
      "0.0 0.0 0.0 0.0 0.0\n",
      "0.0 0.0 0.0 0.0 0.0\n",
      "0.0 0.0 0.0 0.0 0.0\n",
      "0.0 0.0 0.0 0.0 0.0\n",
      "0.0 0.0 0.0 0.0 0.0\n",
      "0.0 0.0 0.0 0.0 0.0\n",
      "0.0 0.0 0.0 0.0 0.0\n",
      "0.0 0.0 0.0 0.0 0.0\n",
      "0.0 0.0 0.0 0.0 0.0\n",
      "0.0 0.0 0.0 0.0 0.0\n",
      "0.0 0.0 0.0 0.0 0.0\n"
     ]
    }
   ],
   "source": [
    "init()\n",
    "for i in range(50):\n",
    "    print(mu1, mu2, var1, var2, w)\n",
    "    soft_label = e_step(mu1, mu2, var1, var2, w)\n",
    "    m_step()"
   ]
  },
  {
   "cell_type": "code",
   "execution_count": null,
   "metadata": {},
   "outputs": [],
   "source": []
  }
 ],
 "metadata": {
  "kernelspec": {
   "display_name": "Python 3",
   "language": "python",
   "name": "python3"
  },
  "language_info": {
   "codemirror_mode": {
    "name": "ipython",
    "version": 3
   },
   "file_extension": ".py",
   "mimetype": "text/x-python",
   "name": "python",
   "nbconvert_exporter": "python",
   "pygments_lexer": "ipython3",
   "version": "3.7.0"
  }
 },
 "nbformat": 4,
 "nbformat_minor": 2
}
