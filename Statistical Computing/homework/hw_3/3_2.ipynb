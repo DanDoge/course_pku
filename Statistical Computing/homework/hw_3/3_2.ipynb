{
 "cells": [
  {
   "cell_type": "code",
   "execution_count": 1,
   "metadata": {},
   "outputs": [],
   "source": [
    "import numpy as np"
   ]
  },
  {
   "cell_type": "code",
   "execution_count": 2,
   "metadata": {},
   "outputs": [],
   "source": [
    "x = [1.41, 1.84, 1.64, 0.85, 1.32, 1.97, 1.70, 1.02, 1.84, 0.92]"
   ]
  },
  {
   "cell_type": "code",
   "execution_count": 3,
   "metadata": {},
   "outputs": [],
   "source": [
    "r = [0.94, 0.70, 0.16, 0.38, 0.40, 0.57, 0.24, 0.27, 0.60, 0.81]"
   ]
  },
  {
   "cell_type": "code",
   "execution_count": 4,
   "metadata": {},
   "outputs": [],
   "source": [
    "y = [13, 17, 6, 3, 7, 13, 8, 7, 5, 8]"
   ]
  },
  {
   "cell_type": "code",
   "execution_count": 5,
   "metadata": {},
   "outputs": [],
   "source": [
    "def em_step(theta):\n",
    "    sum_x = np.sum(x)\n",
    "    tmp = 0.0\n",
    "    for i in range(len(x)):\n",
    "        tmp += y[i] * x[i] / (x[i] * theta + r[i])\n",
    "    return theta * tmp / sum_x"
   ]
  },
  {
   "cell_type": "code",
   "execution_count": 7,
   "metadata": {},
   "outputs": [],
   "source": [
    "def em_all():\n",
    "    theta = np.random.random_sample() * 5\n",
    "    for i in range(50):\n",
    "        theta = em_step(theta)\n",
    "    print(theta)"
   ]
  },
  {
   "cell_type": "code",
   "execution_count": 8,
   "metadata": {
    "scrolled": true
   },
   "outputs": [
    {
     "name": "stdout",
     "output_type": "stream",
     "text": [
      "5.606063396561341\n",
      "5.606063396561341\n",
      "5.606063396561342\n",
      "5.606063396561341\n",
      "5.606063396561342\n",
      "5.606063396561341\n",
      "5.606063396561342\n",
      "5.606063396561342\n",
      "5.606063396561341\n",
      "5.606063396561341\n",
      "5.606063396561341\n",
      "5.606063396561341\n",
      "5.606063396561341\n",
      "5.606063396561341\n",
      "5.606063396561341\n",
      "5.606063396561342\n",
      "5.606063396561342\n",
      "5.606063396561341\n",
      "5.606063396561342\n",
      "5.606063396561342\n",
      "5.606063396561342\n",
      "5.606063396561342\n",
      "5.606063396561341\n",
      "5.606063396561342\n",
      "5.606063396561342\n",
      "5.606063396561342\n",
      "5.606063396561341\n",
      "5.606063396561341\n",
      "5.606063396561342\n",
      "5.606063396561341\n",
      "5.606063396561341\n",
      "5.606063396561341\n",
      "5.606063396561341\n",
      "5.606063396561342\n",
      "5.606063396561341\n",
      "5.606063396561342\n",
      "5.606063396561342\n",
      "5.606063396561342\n",
      "5.606063396561341\n",
      "5.606063396561341\n",
      "5.606063396561341\n",
      "5.606063396561342\n",
      "5.606063396561342\n",
      "5.606063396561342\n",
      "5.606063396561341\n",
      "5.606063396561342\n",
      "5.606063396561341\n",
      "5.606063396561342\n",
      "5.606063396561341\n",
      "5.606063396561342\n",
      "5.606063396561342\n",
      "5.606063396561341\n",
      "5.606063396561341\n",
      "5.606063396561341\n",
      "5.606063396561342\n",
      "5.606063396561341\n",
      "5.606063396561341\n",
      "5.606063396561341\n",
      "5.606063396561342\n",
      "5.606063396561342\n",
      "5.606063396561341\n",
      "5.606063396561342\n",
      "5.606063396561341\n",
      "5.606063396561342\n",
      "5.606063396561342\n",
      "5.606063396561341\n",
      "5.606063396561341\n",
      "5.606063396561341\n",
      "5.606063396561341\n",
      "5.606063396561342\n",
      "5.606063396561341\n",
      "5.606063396561341\n",
      "5.606063396561342\n",
      "5.606063396561342\n",
      "5.606063396561341\n",
      "5.606063396561341\n",
      "5.606063396561341\n",
      "5.606063396561342\n",
      "5.606063396561341\n",
      "5.606063396561342\n",
      "5.606063396561341\n",
      "5.606063396561341\n",
      "5.606063396561342\n",
      "5.606063396561342\n",
      "5.606063396561342\n",
      "5.606063396561341\n",
      "5.606063396561341\n",
      "5.606063396561342\n",
      "5.606063396561341\n",
      "5.606063396561341\n",
      "5.606063396561341\n",
      "5.606063396561342\n",
      "5.606063396561342\n",
      "5.606063396561342\n",
      "5.606063396561341\n",
      "5.606063396561341\n",
      "5.606063396561342\n",
      "5.606063396561341\n",
      "5.606063396561342\n",
      "5.606063396561342\n"
     ]
    }
   ],
   "source": [
    "for i in range(100):\n",
    "    em_all()"
   ]
  },
  {
   "cell_type": "code",
   "execution_count": 9,
   "metadata": {},
   "outputs": [],
   "source": [
    "def get_l(theta):\n",
    "    tmp = 0.0\n",
    "    for i in range(len(x)):\n",
    "        tmp += x[i] * y[i] / (x[i] * theta + r[i])\n",
    "    sum_x = np.sum(x)\n",
    "    return tmp - sum_x"
   ]
  },
  {
   "cell_type": "code",
   "execution_count": 14,
   "metadata": {},
   "outputs": [
    {
     "data": {
      "text/plain": [
       "1.7763568394002505e-15"
      ]
     },
     "execution_count": 14,
     "metadata": {},
     "output_type": "execute_result"
    }
   ],
   "source": [
    "get_l(5.606063396561341)"
   ]
  },
  {
   "cell_type": "code",
   "execution_count": 16,
   "metadata": {},
   "outputs": [
    {
     "name": "stdout",
     "output_type": "stream",
     "text": [
      "2.4230934364195793\n"
     ]
    }
   ],
   "source": [
    "tmp = 0.0\n",
    "theta = 5.606063396561342\n",
    "for i in range(len(x)):\n",
    "    tmp += x[i] * y[i] * x[i] / ((x[i] * theta + r[i]) * (x[i] * theta + r[i]))\n",
    "print(tmp)"
   ]
  },
  {
   "cell_type": "code",
   "execution_count": 17,
   "metadata": {},
   "outputs": [
    {
     "name": "stdout",
     "output_type": "stream",
     "text": [
      "2.5882689819205695\n"
     ]
    }
   ],
   "source": [
    "tmp = 0.0\n",
    "theta = 5.606063396561342\n",
    "for i in range(len(x)):\n",
    "    tmp += x[i] * y[i] / ((x[i] * theta + r[i]) * theta)\n",
    "print(tmp)"
   ]
  },
  {
   "cell_type": "code",
   "execution_count": 20,
   "metadata": {},
   "outputs": [
    {
     "name": "stdout",
     "output_type": "stream",
     "text": [
      "-0.05055156166327691\n"
     ]
    }
   ],
   "source": [
    "tmp = 0.0\n",
    "theta = 5.606063396561342\n",
    "for i in range(len(x)):\n",
    "    tmp += x[i] * r[i] * r[i] / (theta * np.power(x[i] * theta + r[i], 3))\n",
    "    tmp -= (1 + np.log(x[i] * theta / (x[i] * theta + r[i]))) * 2 * x[i] * (x[i] * theta + r[i]) / (np.power(x[i] * theta + r[i], 4))\n",
    "print(tmp)"
   ]
  },
  {
   "cell_type": "code",
   "execution_count": 21,
   "metadata": {},
   "outputs": [
    {
     "data": {
      "text/plain": [
       "0.9361830062274188"
      ]
     },
     "execution_count": 21,
     "metadata": {},
     "output_type": "execute_result"
    }
   ],
   "source": [
    "2.4230934364195793 / 2.5882689819205695"
   ]
  },
  {
   "cell_type": "code",
   "execution_count": 22,
   "metadata": {},
   "outputs": [
    {
     "data": {
      "text/plain": [
       "0.06381699377258121"
      ]
     },
     "execution_count": 22,
     "metadata": {},
     "output_type": "execute_result"
    }
   ],
   "source": [
    "1. - 0.9361830062274188"
   ]
  },
  {
   "cell_type": "code",
   "execution_count": null,
   "metadata": {},
   "outputs": [],
   "source": []
  }
 ],
 "metadata": {
  "kernelspec": {
   "display_name": "Python 3",
   "language": "python",
   "name": "python3"
  },
  "language_info": {
   "codemirror_mode": {
    "name": "ipython",
    "version": 3
   },
   "file_extension": ".py",
   "mimetype": "text/x-python",
   "name": "python",
   "nbconvert_exporter": "python",
   "pygments_lexer": "ipython3",
   "version": "3.7.0"
  }
 },
 "nbformat": 4,
 "nbformat_minor": 2
}
