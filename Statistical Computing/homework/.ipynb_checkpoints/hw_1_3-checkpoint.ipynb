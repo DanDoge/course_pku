{
 "cells": [
  {
   "cell_type": "code",
   "execution_count": 5,
   "metadata": {},
   "outputs": [],
   "source": [
    "from hw_1_3 import *"
   ]
  },
  {
   "cell_type": "code",
   "execution_count": null,
   "metadata": {},
   "outputs": [],
   "source": [
    "gd(X, Y_gt, 0.01, d)"
   ]
  },
  {
   "cell_type": "code",
   "execution_count": null,
   "metadata": {
    "scrolled": true
   },
   "outputs": [],
   "source": [
    "nag(X, Y_gt, 0.01, d)"
   ]
  },
  {
   "cell_type": "code",
   "execution_count": null,
   "metadata": {},
   "outputs": [],
   "source": [
    "sgd(X, Y_gt, 0.01, d, 32)\n",
    "sgd(X, Y_gt, 0.01, d, 64)\n",
    "sgd(X, Y_gt, 0.01, d, 128)"
   ]
  },
  {
   "cell_type": "code",
   "execution_count": null,
   "metadata": {},
   "outputs": [],
   "source": [
    "adagrad(X, Y_gt, 0.01, d, 1e-8, 32)\n",
    "adagrad(X, Y_gt, 0.01, d, 1e-8, 64)\n",
    "adagrad(X, Y_gt, 0.01, d, 1e-8, 128)"
   ]
  },
  {
   "cell_type": "code",
   "execution_count": null,
   "metadata": {
    "scrolled": true
   },
   "outputs": [],
   "source": [
    "rmsprop(X, Y_gt, 0.01, d, 1e-8, 32)\n",
    "rmsprop(X, Y_gt, 0.01, d, 1e-8, 64)\n",
    "rmsprop(X, Y_gt, 0.01, d, 1e-8, 128)"
   ]
  },
  {
   "cell_type": "code",
   "execution_count": null,
   "metadata": {},
   "outputs": [],
   "source": [
    "adam(X, Y_gt, 0.01, d, 0.9, 0.999, 1e-8, 32)\n",
    "adam(X, Y_gt, 0.01, d, 0.9, 0.999, 1e-8, 64)\n",
    "adam(X, Y_gt, 0.01, d, 0.9, 0.999, 1e-8, 128)"
   ]
  },
  {
   "cell_type": "code",
   "execution_count": null,
   "metadata": {},
   "outputs": [],
   "source": [
    "np.random.seed(1234)\n",
    "sparse_rate = 0.3\n",
    "M = np.random.uniform(size=(n,d)) < sparse_rate\n",
    "X[M] = 0."
   ]
  },
  {
   "cell_type": "code",
   "execution_count": null,
   "metadata": {},
   "outputs": [],
   "source": [
    "sgd(X, Y_gt, 0.01, d, 32)\n",
    "sgd(X, Y_gt, 0.01, d, 64)\n",
    "sgd(X, Y_gt, 0.01, d, 128)"
   ]
  },
  {
   "cell_type": "code",
   "execution_count": null,
   "metadata": {},
   "outputs": [],
   "source": [
    "adagrad(X, Y_gt, 0.01, d, 1e-8, 32)\n",
    "adagrad(X, Y_gt, 0.01, d, 1e-8, 64)\n",
    "adagrad(X, Y_gt, 0.01, d, 1e-8, 128)"
   ]
  },
  {
   "cell_type": "code",
   "execution_count": null,
   "metadata": {},
   "outputs": [],
   "source": [
    "rmsprop(X, Y_gt, 0.01, d, 1e-8, 32)\n",
    "rmsprop(X, Y_gt, 0.01, d, 1e-8, 64)\n",
    "rmsprop(X, Y_gt, 0.01, d, 1e-8, 128)"
   ]
  },
  {
   "cell_type": "code",
   "execution_count": null,
   "metadata": {},
   "outputs": [],
   "source": [
    "adam(X, Y_gt, 0.01, d, 0.9, 0.999, 1e-8, 32)\n",
    "adam(X, Y_gt, 0.01, d, 0.9, 0.999, 1e-8, 64)\n",
    "adam(X, Y_gt, 0.01, d, 0.9, 0.999, 1e-8, 128)"
   ]
  },
  {
   "cell_type": "code",
   "execution_count": null,
   "metadata": {},
   "outputs": [],
   "source": []
  }
 ],
 "metadata": {
  "kernelspec": {
   "display_name": "Python 3",
   "language": "python",
   "name": "python3"
  },
  "language_info": {
   "codemirror_mode": {
    "name": "ipython",
    "version": 3
   },
   "file_extension": ".py",
   "mimetype": "text/x-python",
   "name": "python",
   "nbconvert_exporter": "python",
   "pygments_lexer": "ipython3",
   "version": "3.7.0"
  }
 },
 "nbformat": 4,
 "nbformat_minor": 2
}
